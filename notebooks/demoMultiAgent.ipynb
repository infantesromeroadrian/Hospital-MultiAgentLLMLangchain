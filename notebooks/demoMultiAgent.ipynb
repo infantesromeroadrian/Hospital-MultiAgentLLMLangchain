{
 "cells": [
  {
   "metadata": {
    "ExecuteTime": {
     "end_time": "2024-08-06T14:00:56.600525Z",
     "start_time": "2024-08-06T14:00:56.587929Z"
    }
   },
   "cell_type": "code",
   "source": [
    "import os\n",
    "from typing import List, Dict, Any\n",
    "from langchain_openai import ChatOpenAI\n",
    "from langchain import hub\n",
    "from langchain.agents import create_openai_functions_agent, AgentExecutor\n",
    "from langchain.tools import Tool\n",
    "from pydantic import BaseModel, Field\n",
    "from dotenv import load_dotenv\n",
    "from langchain.text_splitter import CharacterTextSplitter\n",
    "from langchain.embeddings import OpenAIEmbeddings\n",
    "from langchain.vectorstores import Chroma\n",
    "from langchain.chains import RetrievalQA\n",
    "from langchain.tools import WikipediaQueryRun, DuckDuckGoSearchRun\n",
    "from langchain_community.utilities import WikipediaAPIWrapper\n",
    "from langchain import LLMMathChain\n",
    "\n",
    "import os\n",
    "os.environ['PROTOCOL_BUFFERS_PYTHON_IMPLEMENTATION'] = 'python'\n",
    "\n",
    "from typing import List, Dict, Any\n",
    "from langchain_openai import ChatOpenAI\n",
    "from langchain import hub\n",
    "from langchain.agents import create_openai_functions_agent, AgentExecutor\n",
    "from langchain.tools import Tool, StructuredTool\n",
    "from pydantic import BaseModel, Field\n",
    "from dotenv import load_dotenv\n",
    "from langchain.text_splitter import RecursiveCharacterTextSplitter\n",
    "from langchain.embeddings import OpenAIEmbeddings\n",
    "from langchain.vectorstores import Chroma\n",
    "from langchain.chains import RetrievalQA\n",
    "from langchain.schema import Document\n",
    "\n",
    "load_dotenv()"
   ],
   "id": "cf3b174a4c70297f",
   "outputs": [
    {
     "data": {
      "text/plain": [
       "True"
      ]
     },
     "execution_count": 25,
     "metadata": {},
     "output_type": "execute_result"
    }
   ],
   "execution_count": 25
  },
  {
   "metadata": {
    "ExecuteTime": {
     "end_time": "2024-08-06T14:00:57.302862Z",
     "start_time": "2024-08-06T14:00:57.292030Z"
    }
   },
   "cell_type": "code",
   "source": [
    "import os\n",
    "from typing import List\n",
    "from langchain_openai import ChatOpenAI\n",
    "from langchain.text_splitter import RecursiveCharacterTextSplitter\n",
    "from langchain.embeddings import OpenAIEmbeddings\n",
    "from langchain.vectorstores import Chroma\n",
    "from langchain.chains import RetrievalQA\n",
    "from langchain.schema import Document\n",
    "\n",
    "class PatientRAG:\n",
    "    def __init__(self, patients_directory: str):\n",
    "        self.patients_directory = patients_directory\n",
    "        self.embeddings = OpenAIEmbeddings()\n",
    "        self.vector_store = self.load_patient_data()\n",
    "\n",
    "    def load_patient_data(self):\n",
    "        documents = []\n",
    "        for filename in os.listdir(self.patients_directory):\n",
    "            if filename.endswith('.txt'):\n",
    "                file_path = os.path.join(self.patients_directory, filename)\n",
    "                with open(file_path, 'r', encoding='utf-8') as file:\n",
    "                    content = file.read()\n",
    "                    documents.append(Document(page_content=content, metadata={\"source\": filename}))\n",
    "        \n",
    "        text_splitter = RecursiveCharacterTextSplitter(chunk_size=1000, chunk_overlap=200)\n",
    "        splits = text_splitter.split_documents(documents)\n",
    "        return Chroma.from_documents(splits, self.embeddings)\n",
    "\n",
    "    def query(self, question):\n",
    "        if isinstance(question, dict) and 'args' in question:\n",
    "            question = ' '.join(question['args'])\n",
    "        elif isinstance(question, list):\n",
    "            question = ' '.join(question)\n",
    "        \n",
    "        # Primero, intentamos buscar por nombre de archivo\n",
    "        words = question.lower().split()\n",
    "        patient_name = words[-1] if words else \"\"  # Asumimos que el nombre del paciente es la última palabra\n",
    "        file_name = f\"{patient_name}.txt\"\n",
    "        file_path = os.path.join(self.patients_directory, file_name)\n",
    "        if os.path.exists(file_path):\n",
    "            with open(file_path, 'r', encoding='utf-8') as file:\n",
    "                return f\"Información del paciente {patient_name.capitalize()}:\\n{file.read()}\"\n",
    "        \n",
    "        # Si no se encuentra por nombre de archivo, usamos el retriever\n",
    "        retriever = self.vector_store.as_retriever(search_kwargs={\"k\": 3})\n",
    "        qa_chain = RetrievalQA.from_chain_type(\n",
    "            llm=ChatOpenAI(temperature=0, model_name=\"gpt-4\"),\n",
    "            chain_type=\"stuff\",\n",
    "            retriever=retriever,\n",
    "            return_source_documents=True\n",
    "        )\n",
    "        result = qa_chain({\"query\": question})\n",
    "        \n",
    "        if not result['result']:\n",
    "            return f\"No se encontró información para la consulta: {question}\"\n",
    "        \n",
    "        return f\"Respuesta: {result['result']}\\nFuentes: {[doc.metadata['source'] for doc in result['source_documents']]}\""
   ],
   "id": "3a0917630f3c04a8",
   "outputs": [],
   "execution_count": 26
  },
  {
   "metadata": {
    "ExecuteTime": {
     "end_time": "2024-08-06T14:00:57.914460Z",
     "start_time": "2024-08-06T14:00:57.900916Z"
    }
   },
   "cell_type": "code",
   "source": [
    "class DoctorAgent:\n",
    "    def diagnose(self, symptoms):\n",
    "        if isinstance(symptoms, list):\n",
    "            symptoms = ' '.join(symptoms)\n",
    "        return f\"Basado en los síntomas '{symptoms}', el diagnóstico preliminar es...\"\n",
    "\n",
    "class NurseAgent:\n",
    "    def check_vitals(self, patient_name):\n",
    "        if isinstance(patient_name, list):\n",
    "            patient_name = patient_name[0]\n",
    "        return f\"Los signos vitales de {patient_name} son normales.\"\n",
    "\n",
    "class AdminAgent:\n",
    "    def schedule_appointment(self, input_data):\n",
    "        if isinstance(input_data, list):\n",
    "            input_string = ' '.join(input_data)\n",
    "        else:\n",
    "            input_string = input_data\n",
    "        parts = input_string.split(maxsplit=1)\n",
    "        if len(parts) != 2:\n",
    "            return \"Error: Por favor, proporcione el nombre del paciente y la fecha separados por un espacio.\"\n",
    "        patient_name, date = parts\n",
    "        return f\"Cita agendada para {patient_name} el {date}.\""
   ],
   "id": "b1928e72edbb8155",
   "outputs": [],
   "execution_count": 27
  },
  {
   "metadata": {
    "ExecuteTime": {
     "end_time": "2024-08-06T14:00:58.474889Z",
     "start_time": "2024-08-06T14:00:58.469304Z"
    }
   },
   "cell_type": "code",
   "source": [
    "from langchain.tools import Tool\n",
    "\n",
    "class HospitalTools:\n",
    "    def __init__(self, rag_system):\n",
    "        self.rag_system = rag_system\n",
    "        self.doctor = DoctorAgent()\n",
    "        self.nurse = NurseAgent()\n",
    "        self.admin = AdminAgent()\n",
    "\n",
    "    def list_patients(self):\n",
    "        return ', '.join([f.split('.')[0] for f in os.listdir(self.rag_system.patients_directory) if f.endswith('.txt')])\n",
    "\n",
    "    def get_tools(self):\n",
    "        return [\n",
    "            Tool(\n",
    "                name=\"consulta_paciente\",\n",
    "                func=self.rag_system.query,\n",
    "                description=\"Útil para buscar información específica sobre un paciente.\"\n",
    "            ),\n",
    "            Tool(\n",
    "                name=\"diagnostico\",\n",
    "                func=self.doctor.diagnose,\n",
    "                description=\"Útil para obtener un diagnóstico preliminar basado en síntomas.\"\n",
    "            ),\n",
    "            Tool(\n",
    "                name=\"verificar_signos_vitales\",\n",
    "                func=self.nurse.check_vitals,\n",
    "                description=\"Útil para verificar los signos vitales de un paciente.\"\n",
    "            ),\n",
    "            Tool(\n",
    "                name=\"agendar_cita\",\n",
    "                func=self.admin.schedule_appointment,\n",
    "                description=\"Útil para agendar una cita para un paciente.\"\n",
    "            ),\n",
    "            Tool(\n",
    "                name=\"listar_pacientes\",\n",
    "                func=self.list_patients,\n",
    "                description=\"Útil para obtener una lista de todos los pacientes disponibles.\"\n",
    "            )\n",
    "        ]"
   ],
   "id": "f009c2d80bcc6dd1",
   "outputs": [],
   "execution_count": 28
  },
  {
   "metadata": {
    "ExecuteTime": {
     "end_time": "2024-08-06T14:00:59.349294Z",
     "start_time": "2024-08-06T14:00:59.343781Z"
    }
   },
   "cell_type": "code",
   "source": [
    "from langchain_openai import ChatOpenAI\n",
    "from langchain import hub\n",
    "from langchain.agents import create_openai_functions_agent, AgentExecutor\n",
    "\n",
    "class HospitalAgent:\n",
    "    def __init__(self, tools):\n",
    "        self.llm = ChatOpenAI(temperature=0.7, model_name=\"gpt-4o-mini\")\n",
    "        prompt = hub.pull(\"hwchase17/openai-functions-agent\")\n",
    "        self.agent = create_openai_functions_agent(self.llm, tools, prompt)\n",
    "        self.agent_executor = AgentExecutor(agent=self.agent, tools=tools, verbose=True)\n",
    "\n",
    "    def run(self, query: str) -> Dict[str, str]:\n",
    "        result = self.agent_executor.invoke({\"input\": query})\n",
    "        tool_used = result.get('intermediate_steps', [])\n",
    "        if tool_used:\n",
    "            tool_name = tool_used[0][0].tool\n",
    "        else:\n",
    "            tool_name = \"No se utilizó ninguna herramienta específica\"\n",
    "        return {\n",
    "            \"output\": result[\"output\"],\n",
    "            \"tool_used\": tool_name\n",
    "        }"
   ],
   "id": "833defa14599f01d",
   "outputs": [],
   "execution_count": 29
  },
  {
   "metadata": {
    "ExecuteTime": {
     "end_time": "2024-08-06T14:01:01.269808Z",
     "start_time": "2024-08-06T14:01:01.260615Z"
    }
   },
   "cell_type": "code",
   "source": [
    "import logging\n",
    "\n",
    "logging.basicConfig(level=logging.INFO)\n",
    "\n",
    "import logging\n",
    "from langchain_openai import ChatOpenAI\n",
    "from langchain import hub\n",
    "from langchain.agents import create_openai_functions_agent, AgentExecutor\n",
    "\n",
    "class HospitalApplication:\n",
    "    def __init__(self, patients_directory: str):\n",
    "        self.patients_directory = patients_directory\n",
    "        rag_system = PatientRAG(patients_directory)\n",
    "        hospital_tools = HospitalTools(rag_system)\n",
    "        \n",
    "        llm = ChatOpenAI(temperature=0.7, model_name=\"gpt-4\")\n",
    "        prompt = hub.pull(\"hwchase17/openai-functions-agent\")\n",
    "        tools = hospital_tools.get_tools()\n",
    "        agent = create_openai_functions_agent(llm, tools, prompt)\n",
    "        self.agent_executor = AgentExecutor(agent=agent, tools=tools, verbose=True)\n",
    "\n",
    "    def process_query(self, query: str):\n",
    "        try:\n",
    "            logging.info(f\"Consulta recibida: {query}\")\n",
    "            response = self.agent_executor.invoke({\"input\": query})\n",
    "            output = response['output']\n",
    "            if 'intermediate_steps' in response:\n",
    "                tool_used = response['intermediate_steps'][0][0].tool if response['intermediate_steps'] else \"Ninguna herramienta utilizada\"\n",
    "            else:\n",
    "                tool_used = \"Información no disponible\"\n",
    "            \n",
    "            logging.info(f\"Respuesta generada: {output}\")\n",
    "            print(\"\\nRespuesta:\", output)\n",
    "            print(f\"Herramienta utilizada: {tool_used}\")\n",
    "            \n",
    "            return output, tool_used\n",
    "        except Exception as e:\n",
    "            logging.error(f\"Error ocurrido: {str(e)}\")\n",
    "            error_message = f\"Ocurrió un error al procesar la consulta: {str(e)}\"\n",
    "            print(\"\\n\" + error_message)\n",
    "            return error_message, \"Error\""
   ],
   "id": "bc47a64851f4fef8",
   "outputs": [],
   "execution_count": 30
  },
  {
   "metadata": {
    "ExecuteTime": {
     "end_time": "2024-08-06T14:01:03.550094Z",
     "start_time": "2024-08-06T14:01:02.382125Z"
    }
   },
   "cell_type": "code",
   "source": [
    "import logging\n",
    "from dotenv import load_dotenv\n",
    "\n",
    "# Configuración inicial\n",
    "load_dotenv()\n",
    "logging.basicConfig(level=logging.INFO)\n",
    "\n",
    "# Directorio de datos de pacientes\n",
    "PATIENTS_DIRECTORY = \"../data/pacientes\"\n",
    "\n",
    "# Inicializar la aplicación del hospital\n",
    "app = HospitalApplication(PATIENTS_DIRECTORY)"
   ],
   "id": "729413437605f601",
   "outputs": [
    {
     "name": "stderr",
     "output_type": "stream",
     "text": [
      "INFO:httpx:HTTP Request: POST https://api.openai.com/v1/embeddings \"HTTP/1.1 200 OK\"\n"
     ]
    }
   ],
   "execution_count": 31
  },
  {
   "metadata": {
    "ExecuteTime": {
     "end_time": "2024-08-06T14:01:07.234420Z",
     "start_time": "2024-08-06T14:01:07.228915Z"
    }
   },
   "cell_type": "code",
   "source": [
    "import os\n",
    "\n",
    "def create_sample_patient_files(directory):\n",
    "    if not os.path.exists(directory):\n",
    "        os.makedirs(directory)\n",
    "    \n",
    "    patients = {\n",
    "        \"juan.txt\": \"Nombre: Juan Pérez\\nEdad: 35\\nHistorial: Hipertensión controlada\",\n",
    "        \"maria.txt\": \"Nombre: María González\\nEdad: 28\\nHistorial: Sin condiciones previas\",\n",
    "        \"pedro.txt\": \"Nombre: Pedro Rodríguez\\nEdad: 45\\nHistorial: Diabetes tipo 2\",\n",
    "        \"ana.txt\": \"Nombre: Ana Martínez\\nEdad: 52\\nHistorial: Artritis reumatoide\"\n",
    "    }\n",
    "    \n",
    "    for filename, content in patients.items():\n",
    "        with open(os.path.join(directory, filename), 'w') as f:\n",
    "            f.write(content)\n",
    "\n",
    "create_sample_patient_files(\"../data/pacientes\")"
   ],
   "id": "238acbec25c8e7a3",
   "outputs": [],
   "execution_count": 32
  },
  {
   "metadata": {
    "ExecuteTime": {
     "end_time": "2024-08-06T14:01:32.843759Z",
     "start_time": "2024-08-06T14:01:10.276251Z"
    }
   },
   "cell_type": "code",
   "source": [
    "# Ejemplos de consultas para probar\n",
    "queries = [\n",
    "    \"¿Cuáles son los pacientes disponibles?\",\n",
    "    \"¿Cuál es la información del paciente Juan?\",\n",
    "    \"Diagnostica dolor de cabeza y fiebre\",\n",
    "    \"Agenda una cita para María el 15 de agosto\",\n",
    "    \"¿Cuáles son los signos vitales de Pedro?\",\n",
    "    \"Busca información sobre el historial médico de Ana\"\n",
    "]\n",
    "\n",
    "# Procesar cada consulta\n",
    "for query in queries:\n",
    "    print(f\"\\n--- Procesando: {query} ---\")\n",
    "    output, tool = app.process_query(query)\n",
    "\n",
    "print(\"\\n¡Gracias por usar el Sistema de Consulta de Pacientes del Hospital!\")"
   ],
   "id": "b48a9aec53defa90",
   "outputs": [
    {
     "name": "stderr",
     "output_type": "stream",
     "text": [
      "INFO:root:Consulta recibida: ¿Cuáles son los pacientes disponibles?\n"
     ]
    },
    {
     "name": "stdout",
     "output_type": "stream",
     "text": [
      "\n",
      "--- Procesando: ¿Cuáles son los pacientes disponibles? ---\n",
      "\n",
      "\n",
      "\u001B[1m> Entering new AgentExecutor chain...\u001B[0m\n"
     ]
    },
    {
     "name": "stderr",
     "output_type": "stream",
     "text": [
      "INFO:httpx:HTTP Request: POST https://api.openai.com/v1/chat/completions \"HTTP/1.1 200 OK\"\n",
      "ERROR:root:Error ocurrido: Too many arguments to single-input tool listar_pacientes.\n",
      "                Consider using StructuredTool instead. Args: []\n",
      "INFO:root:Consulta recibida: ¿Cuál es la información del paciente Juan?\n"
     ]
    },
    {
     "name": "stdout",
     "output_type": "stream",
     "text": [
      "\u001B[32;1m\u001B[1;3m\n",
      "Invoking: `listar_pacientes` with `{}`\n",
      "\n",
      "\n",
      "\u001B[0m\n",
      "Ocurrió un error al procesar la consulta: Too many arguments to single-input tool listar_pacientes.\n",
      "                Consider using StructuredTool instead. Args: []\n",
      "\n",
      "--- Procesando: ¿Cuál es la información del paciente Juan? ---\n",
      "\n",
      "\n",
      "\u001B[1m> Entering new AgentExecutor chain...\u001B[0m\n"
     ]
    },
    {
     "name": "stderr",
     "output_type": "stream",
     "text": [
      "INFO:httpx:HTTP Request: POST https://api.openai.com/v1/chat/completions \"HTTP/1.1 200 OK\"\n"
     ]
    },
    {
     "name": "stdout",
     "output_type": "stream",
     "text": [
      "\u001B[32;1m\u001B[1;3m\n",
      "Invoking: `consulta_paciente` with `{'args': ['Juan']}`\n",
      "\n",
      "\n",
      "\u001B[0m\u001B[36;1m\u001B[1;3mInformación del paciente Juan:\n",
      "Nombre: Juan Pérez\n",
      "Edad: 35\n",
      "Historial: Hipertensión controlada\u001B[0m"
     ]
    },
    {
     "name": "stderr",
     "output_type": "stream",
     "text": [
      "INFO:httpx:HTTP Request: POST https://api.openai.com/v1/chat/completions \"HTTP/1.1 200 OK\"\n",
      "INFO:root:Respuesta generada: La información del paciente Juan es la siguiente:\n",
      "\n",
      "- Nombre: Juan Pérez\n",
      "- Edad: 35 años\n",
      "- Historial: Tiene hipertensión, pero está controlada.\n",
      "INFO:root:Consulta recibida: Diagnostica dolor de cabeza y fiebre\n"
     ]
    },
    {
     "name": "stdout",
     "output_type": "stream",
     "text": [
      "\u001B[32;1m\u001B[1;3mLa información del paciente Juan es la siguiente:\n",
      "\n",
      "- Nombre: Juan Pérez\n",
      "- Edad: 35 años\n",
      "- Historial: Tiene hipertensión, pero está controlada.\u001B[0m\n",
      "\n",
      "\u001B[1m> Finished chain.\u001B[0m\n",
      "\n",
      "Respuesta: La información del paciente Juan es la siguiente:\n",
      "\n",
      "- Nombre: Juan Pérez\n",
      "- Edad: 35 años\n",
      "- Historial: Tiene hipertensión, pero está controlada.\n",
      "Herramienta utilizada: Información no disponible\n",
      "\n",
      "--- Procesando: Diagnostica dolor de cabeza y fiebre ---\n",
      "\n",
      "\n",
      "\u001B[1m> Entering new AgentExecutor chain...\u001B[0m\n"
     ]
    },
    {
     "name": "stderr",
     "output_type": "stream",
     "text": [
      "INFO:httpx:HTTP Request: POST https://api.openai.com/v1/chat/completions \"HTTP/1.1 200 OK\"\n"
     ]
    },
    {
     "name": "stdout",
     "output_type": "stream",
     "text": [
      "\u001B[32;1m\u001B[1;3m\n",
      "Invoking: `diagnostico` with `{'args': ['dolor de cabeza', 'fiebre']}`\n",
      "\n",
      "\n",
      "\u001B[0m\u001B[33;1m\u001B[1;3mBasado en los síntomas 'dolor de cabeza fiebre', el diagnóstico preliminar es...\u001B[0m"
     ]
    },
    {
     "name": "stderr",
     "output_type": "stream",
     "text": [
      "INFO:httpx:HTTP Request: POST https://api.openai.com/v1/chat/completions \"HTTP/1.1 200 OK\"\n",
      "INFO:root:Respuesta generada: Basado en los síntomas de dolor de cabeza y fiebre, el diagnóstico preliminar podría ser una infección viral, como la gripe o el resfriado común. Sin embargo, estos síntomas también pueden ser indicativos de afecciones más graves, como la meningitis. Es importante buscar atención médica para obtener un diagnóstico preciso.\n",
      "INFO:root:Consulta recibida: Agenda una cita para María el 15 de agosto\n"
     ]
    },
    {
     "name": "stdout",
     "output_type": "stream",
     "text": [
      "\u001B[32;1m\u001B[1;3mBasado en los síntomas de dolor de cabeza y fiebre, el diagnóstico preliminar podría ser una infección viral, como la gripe o el resfriado común. Sin embargo, estos síntomas también pueden ser indicativos de afecciones más graves, como la meningitis. Es importante buscar atención médica para obtener un diagnóstico preciso.\u001B[0m\n",
      "\n",
      "\u001B[1m> Finished chain.\u001B[0m\n",
      "\n",
      "Respuesta: Basado en los síntomas de dolor de cabeza y fiebre, el diagnóstico preliminar podría ser una infección viral, como la gripe o el resfriado común. Sin embargo, estos síntomas también pueden ser indicativos de afecciones más graves, como la meningitis. Es importante buscar atención médica para obtener un diagnóstico preciso.\n",
      "Herramienta utilizada: Información no disponible\n",
      "\n",
      "--- Procesando: Agenda una cita para María el 15 de agosto ---\n",
      "\n",
      "\n",
      "\u001B[1m> Entering new AgentExecutor chain...\u001B[0m\n"
     ]
    },
    {
     "name": "stderr",
     "output_type": "stream",
     "text": [
      "INFO:httpx:HTTP Request: POST https://api.openai.com/v1/chat/completions \"HTTP/1.1 200 OK\"\n"
     ]
    },
    {
     "name": "stdout",
     "output_type": "stream",
     "text": [
      "\u001B[32;1m\u001B[1;3m\n",
      "Invoking: `agendar_cita` with `{'args': ['María', '15 de agosto']}`\n",
      "\n",
      "\n",
      "\u001B[0m\u001B[36;1m\u001B[1;3mCita agendada para María el 15 de agosto.\u001B[0m"
     ]
    },
    {
     "name": "stderr",
     "output_type": "stream",
     "text": [
      "INFO:httpx:HTTP Request: POST https://api.openai.com/v1/chat/completions \"HTTP/1.1 200 OK\"\n",
      "INFO:root:Respuesta generada: He agendado una cita para María el 15 de agosto.\n",
      "INFO:root:Consulta recibida: ¿Cuáles son los signos vitales de Pedro?\n"
     ]
    },
    {
     "name": "stdout",
     "output_type": "stream",
     "text": [
      "\u001B[32;1m\u001B[1;3mHe agendado una cita para María el 15 de agosto.\u001B[0m\n",
      "\n",
      "\u001B[1m> Finished chain.\u001B[0m\n",
      "\n",
      "Respuesta: He agendado una cita para María el 15 de agosto.\n",
      "Herramienta utilizada: Información no disponible\n",
      "\n",
      "--- Procesando: ¿Cuáles son los signos vitales de Pedro? ---\n",
      "\n",
      "\n",
      "\u001B[1m> Entering new AgentExecutor chain...\u001B[0m\n"
     ]
    },
    {
     "name": "stderr",
     "output_type": "stream",
     "text": [
      "INFO:httpx:HTTP Request: POST https://api.openai.com/v1/chat/completions \"HTTP/1.1 200 OK\"\n"
     ]
    },
    {
     "name": "stdout",
     "output_type": "stream",
     "text": [
      "\u001B[32;1m\u001B[1;3m\n",
      "Invoking: `verificar_signos_vitales` with `{'args': ['Pedro']}`\n",
      "\n",
      "\n",
      "\u001B[0m\u001B[38;5;200m\u001B[1;3mLos signos vitales de Pedro son normales.\u001B[0m"
     ]
    },
    {
     "name": "stderr",
     "output_type": "stream",
     "text": [
      "INFO:httpx:HTTP Request: POST https://api.openai.com/v1/chat/completions \"HTTP/1.1 200 OK\"\n",
      "INFO:root:Respuesta generada: Los signos vitales de Pedro son normales.\n",
      "INFO:root:Consulta recibida: Busca información sobre el historial médico de Ana\n"
     ]
    },
    {
     "name": "stdout",
     "output_type": "stream",
     "text": [
      "\u001B[32;1m\u001B[1;3mLos signos vitales de Pedro son normales.\u001B[0m\n",
      "\n",
      "\u001B[1m> Finished chain.\u001B[0m\n",
      "\n",
      "Respuesta: Los signos vitales de Pedro son normales.\n",
      "Herramienta utilizada: Información no disponible\n",
      "\n",
      "--- Procesando: Busca información sobre el historial médico de Ana ---\n",
      "\n",
      "\n",
      "\u001B[1m> Entering new AgentExecutor chain...\u001B[0m\n"
     ]
    },
    {
     "name": "stderr",
     "output_type": "stream",
     "text": [
      "INFO:httpx:HTTP Request: POST https://api.openai.com/v1/chat/completions \"HTTP/1.1 200 OK\"\n"
     ]
    },
    {
     "name": "stdout",
     "output_type": "stream",
     "text": [
      "\u001B[32;1m\u001B[1;3m\n",
      "Invoking: `consulta_paciente` with `{'args': ['Ana']}`\n",
      "\n",
      "\n",
      "\u001B[0m\u001B[36;1m\u001B[1;3mInformación del paciente Ana:\n",
      "Nombre: Ana Martínez\n",
      "Edad: 52\n",
      "Historial: Artritis reumatoide\u001B[0m"
     ]
    },
    {
     "name": "stderr",
     "output_type": "stream",
     "text": [
      "INFO:httpx:HTTP Request: POST https://api.openai.com/v1/chat/completions \"HTTP/1.1 200 OK\"\n",
      "INFO:root:Respuesta generada: La información del paciente Ana Martínez es la siguiente:\n",
      "- Edad: 52 años\n",
      "- Historial médico: Se le ha diagnosticado con artritis reumatoide.\n"
     ]
    },
    {
     "name": "stdout",
     "output_type": "stream",
     "text": [
      "\u001B[32;1m\u001B[1;3mLa información del paciente Ana Martínez es la siguiente:\n",
      "- Edad: 52 años\n",
      "- Historial médico: Se le ha diagnosticado con artritis reumatoide.\u001B[0m\n",
      "\n",
      "\u001B[1m> Finished chain.\u001B[0m\n",
      "\n",
      "Respuesta: La información del paciente Ana Martínez es la siguiente:\n",
      "- Edad: 52 años\n",
      "- Historial médico: Se le ha diagnosticado con artritis reumatoide.\n",
      "Herramienta utilizada: Información no disponible\n",
      "\n",
      "¡Gracias por usar el Sistema de Consulta de Pacientes del Hospital!\n"
     ]
    }
   ],
   "execution_count": 33
  },
  {
   "metadata": {},
   "cell_type": "code",
   "outputs": [],
   "execution_count": null,
   "source": "",
   "id": "cd50b23e57fcc8b"
  }
 ],
 "metadata": {
  "kernelspec": {
   "display_name": "Python 3",
   "language": "python",
   "name": "python3"
  },
  "language_info": {
   "codemirror_mode": {
    "name": "ipython",
    "version": 2
   },
   "file_extension": ".py",
   "mimetype": "text/x-python",
   "name": "python",
   "nbconvert_exporter": "python",
   "pygments_lexer": "ipython2",
   "version": "2.7.6"
  }
 },
 "nbformat": 4,
 "nbformat_minor": 5
}
