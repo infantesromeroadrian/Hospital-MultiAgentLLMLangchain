{
 "cells": [
  {
   "metadata": {
    "ExecuteTime": {
     "end_time": "2024-08-02T23:48:21.737213Z",
     "start_time": "2024-08-02T23:48:21.670186Z"
    }
   },
   "cell_type": "code",
   "source": [
    "import os\n",
    "from typing import List, Dict, Any\n",
    "from langchain_openai import ChatOpenAI\n",
    "from langchain import hub\n",
    "from langchain.agents import create_openai_functions_agent, AgentExecutor\n",
    "from langchain.tools import Tool\n",
    "from pydantic import BaseModel, Field\n",
    "from dotenv import load_dotenv\n",
    "from langchain.text_splitter import CharacterTextSplitter\n",
    "from langchain.embeddings import OpenAIEmbeddings\n",
    "from langchain.vectorstores import Chroma\n",
    "from langchain.chains import RetrievalQA\n",
    "from langchain.tools import WikipediaQueryRun, DuckDuckGoSearchRun\n",
    "from langchain_community.utilities import WikipediaAPIWrapper\n",
    "from langchain import LLMMathChain"
   ],
   "id": "cf3b174a4c70297f",
   "outputs": [],
   "execution_count": 3
  },
  {
   "metadata": {
    "ExecuteTime": {
     "end_time": "2024-08-02T23:49:08.596859Z",
     "start_time": "2024-08-02T23:49:08.585273Z"
    }
   },
   "cell_type": "code",
   "source": [
    "import os\n",
    "os.environ['PROTOCOL_BUFFERS_PYTHON_IMPLEMENTATION'] = 'python'\n",
    "\n",
    "from typing import List, Dict, Any\n",
    "from langchain_openai import ChatOpenAI\n",
    "from langchain import hub\n",
    "from langchain.agents import create_openai_functions_agent, AgentExecutor\n",
    "from langchain.tools import Tool, StructuredTool\n",
    "from pydantic import BaseModel, Field\n",
    "from dotenv import load_dotenv\n",
    "from langchain.text_splitter import RecursiveCharacterTextSplitter\n",
    "from langchain.embeddings import OpenAIEmbeddings\n",
    "from langchain.vectorstores import Chroma\n",
    "from langchain.chains import RetrievalQA\n",
    "from langchain.schema import Document\n",
    "\n",
    "load_dotenv()"
   ],
   "id": "34bf66068341db22",
   "outputs": [
    {
     "data": {
      "text/plain": [
       "True"
      ]
     },
     "execution_count": 5,
     "metadata": {},
     "output_type": "execute_result"
    }
   ],
   "execution_count": 5
  },
  {
   "metadata": {
    "ExecuteTime": {
     "end_time": "2024-08-02T23:49:12.820218Z",
     "start_time": "2024-08-02T23:49:12.814444Z"
    }
   },
   "cell_type": "code",
   "source": [
    "class PatientRAG:\n",
    "    def __init__(self, patients_directory: str):\n",
    "        self.patients_directory = patients_directory\n",
    "        self.embeddings = OpenAIEmbeddings()\n",
    "        self.vector_store = self.load_patient_data()\n",
    "\n",
    "    def load_patient_data(self):\n",
    "        documents = []\n",
    "        for filename in os.listdir(self.patients_directory):\n",
    "            if filename.endswith('.txt'):\n",
    "                file_path = os.path.join(self.patients_directory, filename)\n",
    "                with open(file_path, 'r', encoding='utf-8') as file:\n",
    "                    content = file.read()\n",
    "                    documents.append(Document(page_content=content, metadata={\"source\": filename}))\n",
    "        \n",
    "        text_splitter = RecursiveCharacterTextSplitter(chunk_size=1000, chunk_overlap=200)\n",
    "        splits = text_splitter.split_documents(documents)\n",
    "        return Chroma.from_documents(splits, self.embeddings)\n",
    "\n",
    "    def query(self, question: str) -> str:\n",
    "    # Primero, intentamos buscar por nombre de archivo\n",
    "        if question.lower().startswith(\"paciente\"):\n",
    "            file_name = f\"{question.lower()}.txt\"\n",
    "            file_path = os.path.join(self.patients_directory, file_name)\n",
    "            if os.path.exists(file_path):\n",
    "                with open(file_path, 'r', encoding='utf-8') as file:\n",
    "                    return f\"Información del {question}:\\n{file.read()}\"\n",
    "        \n",
    "        # Si no se encuentra por nombre de archivo, usamos el retriever\n",
    "        retriever = self.vector_store.as_retriever(search_kwargs={\"k\": 3})\n",
    "        qa_chain = RetrievalQA.from_chain_type(\n",
    "            llm=ChatOpenAI(temperature=0, model_name=\"gpt-4\"),\n",
    "            chain_type=\"stuff\",\n",
    "            retriever=retriever,\n",
    "            return_source_documents=True\n",
    "        )\n",
    "        result = qa_chain({\"query\": question})\n",
    "        \n",
    "        if not result['result']:\n",
    "            return f\"No se encontró información para la consulta: {question}\"\n",
    "        \n",
    "        return f\"Respuesta: {result['result']}\\nFuentes: {[doc.metadata['source'] for doc in result['source_documents']]}\""
   ],
   "id": "3a0917630f3c04a8",
   "outputs": [],
   "execution_count": 6
  },
  {
   "metadata": {
    "ExecuteTime": {
     "end_time": "2024-08-02T23:49:13.523902Z",
     "start_time": "2024-08-02T23:49:13.521236Z"
    }
   },
   "cell_type": "code",
   "source": [
    "class DoctorAgent:\n",
    "    def diagnose(self, symptoms: str) -> str:\n",
    "        return f\"Basado en los síntomas '{symptoms}', el diagnóstico preliminar es...\"\n",
    "\n",
    "class NurseAgent:\n",
    "    def check_vitals(self, patient_name: str) -> str:\n",
    "        return f\"Los signos vitales de {patient_name} son normales.\"\n",
    "\n",
    "class AdminAgent:\n",
    "    def schedule_appointment(self, patient_name: str, date: str) -> str:\n",
    "        return f\"Cita agendada para {patient_name} el {date}.\"\n"
   ],
   "id": "b1928e72edbb8155",
   "outputs": [],
   "execution_count": 7
  },
  {
   "metadata": {
    "ExecuteTime": {
     "end_time": "2024-08-02T23:49:14.217790Z",
     "start_time": "2024-08-02T23:49:14.212977Z"
    }
   },
   "cell_type": "code",
   "source": [
    "from langchain.tools import Tool, StructuredTool\n",
    "from pydantic import BaseModel, Field\n",
    "\n",
    "class HospitalTools:\n",
    "    def __init__(self, rag_system: PatientRAG):\n",
    "        self.rag_system = rag_system\n",
    "        self.doctor = DoctorAgent()\n",
    "        self.nurse = NurseAgent()\n",
    "        self.admin = AdminAgent()\n",
    "\n",
    "    def list_patients(self) -> str:\n",
    "        return ', '.join([f.split('.')[0] for f in os.listdir(self.rag_system.patients_directory) if f.endswith('.txt')])\n",
    "\n",
    "    def get_tools(self):\n",
    "        class DiagnoseInput(BaseModel):\n",
    "            symptoms: str = Field(description=\"Síntomas del paciente\")\n",
    "\n",
    "        class CheckVitalsInput(BaseModel):\n",
    "            patient_name: str = Field(description=\"Nombre del paciente\")\n",
    "\n",
    "        class ScheduleAppointmentInput(BaseModel):\n",
    "            patient_name: str = Field(description=\"Nombre del paciente\")\n",
    "            date: str = Field(description=\"Fecha de la cita\")\n",
    "\n",
    "        class QueryInput(BaseModel):\n",
    "            question: str = Field(description=\"Pregunta sobre el paciente\")\n",
    "\n",
    "        return [\n",
    "            StructuredTool.from_function(\n",
    "                func=self.rag_system.query,\n",
    "                name=\"consulta_paciente\",\n",
    "                description=\"Útil para buscar información específica sobre un paciente.\",\n",
    "                args_schema=QueryInput\n",
    "            ),\n",
    "            StructuredTool.from_function(\n",
    "                func=self.doctor.diagnose,\n",
    "                name=\"diagnostico\",\n",
    "                description=\"Útil para obtener un diagnóstico preliminar basado en síntomas.\",\n",
    "                args_schema=DiagnoseInput\n",
    "            ),\n",
    "            StructuredTool.from_function(\n",
    "                func=self.nurse.check_vitals,\n",
    "                name=\"verificar_signos_vitales\",\n",
    "                description=\"Útil para verificar los signos vitales de un paciente.\",\n",
    "                args_schema=CheckVitalsInput\n",
    "            ),\n",
    "            StructuredTool.from_function(\n",
    "                func=self.admin.schedule_appointment,\n",
    "                name=\"agendar_cita\",\n",
    "                description=\"Útil para agendar una cita para un paciente.\",\n",
    "                args_schema=ScheduleAppointmentInput\n",
    "            ),\n",
    "            StructuredTool.from_function(\n",
    "                func=self.list_patients,\n",
    "                name=\"listar_pacientes\",\n",
    "                description=\"Útil para obtener una lista de todos los pacientes disponibles.\"\n",
    "            )\n",
    "        ]"
   ],
   "id": "f009c2d80bcc6dd1",
   "outputs": [],
   "execution_count": 8
  },
  {
   "metadata": {
    "ExecuteTime": {
     "end_time": "2024-08-02T23:49:15.101680Z",
     "start_time": "2024-08-02T23:49:15.097372Z"
    }
   },
   "cell_type": "code",
   "source": [
    "from langchain_openai import ChatOpenAI\n",
    "from langchain import hub\n",
    "from langchain.agents import create_openai_functions_agent, AgentExecutor\n",
    "\n",
    "class HospitalAgent:\n",
    "    def __init__(self, tools):\n",
    "        self.llm = ChatOpenAI(temperature=0.7, model_name=\"gpt-4\")\n",
    "        prompt = hub.pull(\"hwchase17/openai-functions-agent\")\n",
    "        self.agent = create_openai_functions_agent(self.llm, tools, prompt)\n",
    "        self.agent_executor = AgentExecutor(agent=self.agent, tools=tools, verbose=True)\n",
    "\n",
    "    def run(self, query: str) -> Dict[str, str]:\n",
    "        result = self.agent_executor.invoke({\"input\": query})\n",
    "        tool_used = result.get('intermediate_steps', [])\n",
    "        if tool_used:\n",
    "            tool_name = tool_used[0][0].tool\n",
    "        else:\n",
    "            tool_name = \"No se utilizó ninguna herramienta específica\"\n",
    "        return {\n",
    "            \"output\": result[\"output\"],\n",
    "            \"tool_used\": tool_name\n",
    "        }"
   ],
   "id": "833defa14599f01d",
   "outputs": [],
   "execution_count": 9
  },
  {
   "metadata": {
    "ExecuteTime": {
     "end_time": "2024-08-02T23:50:30.046604Z",
     "start_time": "2024-08-02T23:50:30.038472Z"
    }
   },
   "cell_type": "code",
   "source": [
    "import logging\n",
    "\n",
    "logging.basicConfig(level=logging.INFO)\n",
    "\n",
    "class HospitalApplication:\n",
    "    def __init__(self, patients_directory: str):\n",
    "        self.patients_directory = patients_directory\n",
    "        rag_system = PatientRAG(patients_directory)\n",
    "        hospital_tools = HospitalTools(rag_system)\n",
    "        self.agent = HospitalAgent(hospital_tools.get_tools())\n",
    "\n",
    "    def run_interaction(self):\n",
    "        print(\"Bienvenido al Sistema de Consulta de Pacientes del Hospital\")\n",
    "        while True:\n",
    "            query = input(\"\\nPor favor, ingrese su consulta (o 'salir' para terminar): \")\n",
    "            if query.lower() == 'salir':\n",
    "                print(\"Gracias por usar el Sistema de Consulta de Pacientes del Hospital. ¡Hasta luego!\")\n",
    "                break\n",
    "            try:\n",
    "                logging.info(f\"Consulta recibida: {query}\")\n",
    "                response = self.agent.run(query)\n",
    "                logging.info(f\"Respuesta generada: {response['output']}\")\n",
    "                logging.info(f\"Herramienta utilizada: {response['tool_used']}\")\n",
    "                print(\"\\nRespuesta:\", response['output'])\n",
    "                print(f\"Herramienta utilizada: {response['tool_used']}\")\n",
    "            except Exception as e:\n",
    "                logging.error(f\"Error ocurrido: {str(e)}\")\n",
    "                print(f\"\\nOcurrió un error: {str(e)}\")\n",
    "                print(\"Por favor, intente reformular su consulta.\")"
   ],
   "id": "bc47a64851f4fef8",
   "outputs": [],
   "execution_count": 14
  },
  {
   "metadata": {
    "ExecuteTime": {
     "end_time": "2024-08-02T23:50:31.752957Z",
     "start_time": "2024-08-02T23:50:30.771634Z"
    }
   },
   "cell_type": "code",
   "source": "app = HospitalApplication(\"../data/pacientes\")",
   "id": "4084b837e901b696",
   "outputs": [
    {
     "name": "stderr",
     "output_type": "stream",
     "text": [
      "INFO:httpx:HTTP Request: POST https://api.openai.com/v1/embeddings \"HTTP/1.1 200 OK\"\n"
     ]
    }
   ],
   "execution_count": 15
  },
  {
   "metadata": {
    "ExecuteTime": {
     "end_time": "2024-08-02T23:51:18.560779Z",
     "start_time": "2024-08-02T23:50:32.968006Z"
    }
   },
   "cell_type": "code",
   "source": "app.run_interaction()",
   "id": "93ce8395ffd847c7",
   "outputs": [
    {
     "name": "stdout",
     "output_type": "stream",
     "text": [
      "Bienvenido al Sistema de Consulta de Pacientes del Hospital\n"
     ]
    },
    {
     "name": "stderr",
     "output_type": "stream",
     "text": [
      "INFO:root:Consulta recibida: lista de pacientes\n"
     ]
    },
    {
     "name": "stdout",
     "output_type": "stream",
     "text": [
      "\n",
      "\n",
      "\u001B[1m> Entering new AgentExecutor chain...\u001B[0m\n"
     ]
    },
    {
     "name": "stderr",
     "output_type": "stream",
     "text": [
      "INFO:httpx:HTTP Request: POST https://api.openai.com/v1/chat/completions \"HTTP/1.1 200 OK\"\n"
     ]
    },
    {
     "name": "stdout",
     "output_type": "stream",
     "text": [
      "\u001B[32;1m\u001B[1;3m\n",
      "Invoking: `listar_pacientes` with `{}`\n",
      "\n",
      "\n",
      "\u001B[0m\u001B[33;1m\u001B[1;3mpaciente2, paciente3, paciente1, paciente4, paciente5\u001B[0m"
     ]
    },
    {
     "name": "stderr",
     "output_type": "stream",
     "text": [
      "INFO:httpx:HTTP Request: POST https://api.openai.com/v1/chat/completions \"HTTP/1.1 200 OK\"\n",
      "INFO:root:Respuesta generada: La lista de pacientes disponibles es la siguiente:\n",
      "\n",
      "- Paciente 1\n",
      "- Paciente 2\n",
      "- Paciente 3\n",
      "- Paciente 4\n",
      "- Paciente 5\n",
      "INFO:root:Herramienta utilizada: No se utilizó ninguna herramienta específica\n"
     ]
    },
    {
     "name": "stdout",
     "output_type": "stream",
     "text": [
      "\u001B[32;1m\u001B[1;3mLa lista de pacientes disponibles es la siguiente:\n",
      "\n",
      "- Paciente 1\n",
      "- Paciente 2\n",
      "- Paciente 3\n",
      "- Paciente 4\n",
      "- Paciente 5\u001B[0m\n",
      "\n",
      "\u001B[1m> Finished chain.\u001B[0m\n",
      "\n",
      "Respuesta: La lista de pacientes disponibles es la siguiente:\n",
      "\n",
      "- Paciente 1\n",
      "- Paciente 2\n",
      "- Paciente 3\n",
      "- Paciente 4\n",
      "- Paciente 5\n",
      "Herramienta utilizada: No se utilizó ninguna herramienta específica\n"
     ]
    },
    {
     "name": "stderr",
     "output_type": "stream",
     "text": [
      "INFO:root:Consulta recibida: info paciente1\n"
     ]
    },
    {
     "name": "stdout",
     "output_type": "stream",
     "text": [
      "\n",
      "\n",
      "\u001B[1m> Entering new AgentExecutor chain...\u001B[0m\n"
     ]
    },
    {
     "name": "stderr",
     "output_type": "stream",
     "text": [
      "INFO:httpx:HTTP Request: POST https://api.openai.com/v1/chat/completions \"HTTP/1.1 200 OK\"\n"
     ]
    },
    {
     "name": "stdout",
     "output_type": "stream",
     "text": [
      "\u001B[32;1m\u001B[1;3m\n",
      "Invoking: `consulta_paciente` with `{'question': 'paciente1'}`\n",
      "\n",
      "\n",
      "\u001B[0m\u001B[36;1m\u001B[1;3mInformación del paciente1:\n",
      "Paciente 1\n",
      "Nombre del paciente: Juan Pérez García\n",
      "Edad: 45 años\n",
      "Sexo: Masculino\n",
      "Fecha de consulta: 01/08/2024\n",
      "Diagnóstico principal: Hipertensión arterial\n",
      "Tratamiento recomendado:\n",
      "\n",
      "Inicio de tratamiento con Enalapril 10 mg, 1 tableta diaria.\n",
      "Recomendación de dieta baja en sodio y aumento de actividad física.\n",
      "Observaciones: Se sugiere seguimiento mensual para monitorear presión arterial y ajustar tratamiento si es necesario.\u001B[0m"
     ]
    },
    {
     "name": "stderr",
     "output_type": "stream",
     "text": [
      "INFO:httpx:HTTP Request: POST https://api.openai.com/v1/chat/completions \"HTTP/1.1 200 OK\"\n",
      "INFO:root:Respuesta generada: Información del paciente Juan Pérez García:\n",
      "\n",
      "- Edad: 45 años\n",
      "- Sexo: Masculino\n",
      "- Fecha de consulta: 01/08/2024\n",
      "- Diagnóstico principal: Hipertensión arterial\n",
      "- Tratamiento recomendado:\n",
      "\n",
      "  - Inicio de tratamiento con Enalapril 10 mg, 1 tableta diaria.\n",
      "  - Recomendación de dieta baja en sodio y aumento de actividad física.\n",
      "  \n",
      "- Observaciones: Se sugiere seguimiento mensual para monitorear presión arterial y ajustar tratamiento si es necesario.\n",
      "INFO:root:Herramienta utilizada: No se utilizó ninguna herramienta específica\n"
     ]
    },
    {
     "name": "stdout",
     "output_type": "stream",
     "text": [
      "\u001B[32;1m\u001B[1;3mInformación del paciente Juan Pérez García:\n",
      "\n",
      "- Edad: 45 años\n",
      "- Sexo: Masculino\n",
      "- Fecha de consulta: 01/08/2024\n",
      "- Diagnóstico principal: Hipertensión arterial\n",
      "- Tratamiento recomendado:\n",
      "\n",
      "  - Inicio de tratamiento con Enalapril 10 mg, 1 tableta diaria.\n",
      "  - Recomendación de dieta baja en sodio y aumento de actividad física.\n",
      "  \n",
      "- Observaciones: Se sugiere seguimiento mensual para monitorear presión arterial y ajustar tratamiento si es necesario.\u001B[0m\n",
      "\n",
      "\u001B[1m> Finished chain.\u001B[0m\n",
      "\n",
      "Respuesta: Información del paciente Juan Pérez García:\n",
      "\n",
      "- Edad: 45 años\n",
      "- Sexo: Masculino\n",
      "- Fecha de consulta: 01/08/2024\n",
      "- Diagnóstico principal: Hipertensión arterial\n",
      "- Tratamiento recomendado:\n",
      "\n",
      "  - Inicio de tratamiento con Enalapril 10 mg, 1 tableta diaria.\n",
      "  - Recomendación de dieta baja en sodio y aumento de actividad física.\n",
      "  \n",
      "- Observaciones: Se sugiere seguimiento mensual para monitorear presión arterial y ajustar tratamiento si es necesario.\n",
      "Herramienta utilizada: No se utilizó ninguna herramienta específica\n"
     ]
    },
    {
     "name": "stderr",
     "output_type": "stream",
     "text": [
      "INFO:root:Consulta recibida: tratamiento Juan Perez\n"
     ]
    },
    {
     "name": "stdout",
     "output_type": "stream",
     "text": [
      "\n",
      "\n",
      "\u001B[1m> Entering new AgentExecutor chain...\u001B[0m\n"
     ]
    },
    {
     "name": "stderr",
     "output_type": "stream",
     "text": [
      "INFO:httpx:HTTP Request: POST https://api.openai.com/v1/chat/completions \"HTTP/1.1 200 OK\"\n"
     ]
    },
    {
     "name": "stdout",
     "output_type": "stream",
     "text": [
      "\u001B[32;1m\u001B[1;3m\n",
      "Invoking: `consulta_paciente` with `{'question': '¿Cuál es el tratamiento actual de Juan Perez?'}`\n",
      "\n",
      "\n",
      "\u001B[0m"
     ]
    },
    {
     "name": "stderr",
     "output_type": "stream",
     "text": [
      "/Users/adrianinfantes/Library/Caches/pypoetry/virtualenvs/hospitalmultiagentllmlangchain-kpg3edPC-py3.12/lib/python3.12/site-packages/langchain_core/_api/deprecation.py:139: LangChainDeprecationWarning: The method `Chain.__call__` was deprecated in langchain 0.1.0 and will be removed in 0.3.0. Use invoke instead.\n",
      "  warn_deprecated(\n",
      "INFO:httpx:HTTP Request: POST https://api.openai.com/v1/embeddings \"HTTP/1.1 200 OK\"\n",
      "INFO:httpx:HTTP Request: POST https://api.openai.com/v1/chat/completions \"HTTP/1.1 200 OK\"\n"
     ]
    },
    {
     "name": "stdout",
     "output_type": "stream",
     "text": [
      "\u001B[36;1m\u001B[1;3mRespuesta: El tratamiento actual de Juan Pérez García es el inicio de tratamiento con Enalapril 10 mg, 1 tableta diaria. Además, se le ha recomendado una dieta baja en sodio y un aumento de actividad física. Se sugiere un seguimiento mensual para monitorear su presión arterial y ajustar el tratamiento si es necesario.\n",
      "Fuentes: ['paciente1.txt', 'paciente1.txt', 'paciente2.txt']\u001B[0m"
     ]
    },
    {
     "name": "stderr",
     "output_type": "stream",
     "text": [
      "INFO:httpx:HTTP Request: POST https://api.openai.com/v1/chat/completions \"HTTP/1.1 200 OK\"\n",
      "INFO:root:Respuesta generada: El tratamiento actual de Juan Pérez García es el inicio de tratamiento con Enalapril 10 mg, 1 tableta diaria. Además, se le ha recomendado una dieta baja en sodio y un aumento de actividad física. Se sugiere un seguimiento mensual para monitorear su presión arterial y ajustar el tratamiento si es necesario.\n",
      "INFO:root:Herramienta utilizada: No se utilizó ninguna herramienta específica\n"
     ]
    },
    {
     "name": "stdout",
     "output_type": "stream",
     "text": [
      "\u001B[32;1m\u001B[1;3mEl tratamiento actual de Juan Pérez García es el inicio de tratamiento con Enalapril 10 mg, 1 tableta diaria. Además, se le ha recomendado una dieta baja en sodio y un aumento de actividad física. Se sugiere un seguimiento mensual para monitorear su presión arterial y ajustar el tratamiento si es necesario.\u001B[0m\n",
      "\n",
      "\u001B[1m> Finished chain.\u001B[0m\n",
      "\n",
      "Respuesta: El tratamiento actual de Juan Pérez García es el inicio de tratamiento con Enalapril 10 mg, 1 tableta diaria. Además, se le ha recomendado una dieta baja en sodio y un aumento de actividad física. Se sugiere un seguimiento mensual para monitorear su presión arterial y ajustar el tratamiento si es necesario.\n",
      "Herramienta utilizada: No se utilizó ninguna herramienta específica\n",
      "Gracias por usar el Sistema de Consulta de Pacientes del Hospital. ¡Hasta luego!\n"
     ]
    }
   ],
   "execution_count": 16
  },
  {
   "metadata": {},
   "cell_type": "code",
   "outputs": [],
   "execution_count": null,
   "source": "",
   "id": "729413437605f601"
  }
 ],
 "metadata": {
  "kernelspec": {
   "display_name": "Python 3",
   "language": "python",
   "name": "python3"
  },
  "language_info": {
   "codemirror_mode": {
    "name": "ipython",
    "version": 2
   },
   "file_extension": ".py",
   "mimetype": "text/x-python",
   "name": "python",
   "nbconvert_exporter": "python",
   "pygments_lexer": "ipython2",
   "version": "2.7.6"
  }
 },
 "nbformat": 4,
 "nbformat_minor": 5
}
